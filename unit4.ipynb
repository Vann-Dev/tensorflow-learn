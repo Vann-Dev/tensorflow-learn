{
 "cells": [
  {
   "cell_type": "code",
   "execution_count": 45,
   "metadata": {},
   "outputs": [],
   "source": [
    "import os\n",
    "os.environ[\"CUDA_VISIBLE_DEVICES\"] = \"-1\"\n",
    "\n",
    "import numpy as np\n",
    "import tensorflow as tf\n",
    "from typing import Tuple"
   ]
  },
  {
   "cell_type": "code",
   "execution_count": 46,
   "metadata": {},
   "outputs": [],
   "source": [
    "def get_data(batch_size: int) -> Tuple[tf.data.Dataset, tf.data.Dataset]:\n",
    "  (training_images, training_labels), (test_images, test_labels) = tf.keras.datasets.fashion_mnist.load_data()\n",
    "\n",
    "  train_dataset = tf.data.Dataset.from_tensor_slices((training_images, training_labels))\n",
    "  test_dataset = tf.data.Dataset.from_tensor_slices((test_images, test_labels))\n",
    "\n",
    "  train_dataset = train_dataset.map(lambda image, label: (float(image) / 255.0, label))\n",
    "  test_dataset = test_dataset.map(lambda image, label: (float(image) / 255.0, label))\n",
    "\n",
    "  batch_size = 64\n",
    "  train_dataset = train_dataset.batch(batch_size).shuffle(500)\n",
    "  test_dataset = test_dataset.batch(batch_size).shuffle(500)\n",
    "\n",
    "  return (train_dataset, test_dataset)"
   ]
  },
  {
   "cell_type": "code",
   "execution_count": 47,
   "metadata": {},
   "outputs": [],
   "source": [
    "class NeuralNetwork(tf.keras.Model):\n",
    "  def __init__(self):\n",
    "    super(NeuralNetwork, self).__init__()\n",
    "    self.sequence = tf.keras.Sequential([\n",
    "      tf.keras.layers.Flatten(input_shape=(28, 28)),\n",
    "      tf.keras.layers.Dense(20, activation='relu'),\n",
    "      tf.keras.layers.Dense(10)\n",
    "    ])\n",
    "\n",
    "  def call(self, x: tf.Tensor) -> tf.Tensor:\n",
    "    y_prime = self.sequence(x)\n",
    "    return y_prime"
   ]
  },
  {
   "cell_type": "code",
   "execution_count": 48,
   "metadata": {},
   "outputs": [],
   "source": [
    "learning_rate = 0.1\n",
    "batch_size = 64\n",
    "\n",
    "(train_dataset, test_dataset) = get_data(batch_size)\n",
    "\n",
    "model = NeuralNetwork()\n",
    "\n",
    "loss_fn = tf.keras.losses.SparseCategoricalCrossentropy(from_logits=True)\n",
    "optimizer = tf.keras.optimizers.SGD(learning_rate)\n",
    "metrics = ['accuracy']\n",
    "model.compile(optimizer, loss_fn, metrics)"
   ]
  },
  {
   "cell_type": "code",
   "execution_count": 49,
   "metadata": {},
   "outputs": [
    {
     "name": "stdout",
     "output_type": "stream",
     "text": [
      "\n",
      "Fitting:\n",
      "Epoch 1/5\n"
     ]
    },
    {
     "name": "stdout",
     "output_type": "stream",
     "text": [
      "938/938 [==============================] - 2s 1ms/step - loss: 0.6215 - accuracy: 0.7829\n",
      "Epoch 2/5\n",
      "938/938 [==============================] - 2s 2ms/step - loss: 0.4521 - accuracy: 0.8394\n",
      "Epoch 3/5\n",
      "938/938 [==============================] - 2s 1ms/step - loss: 0.4160 - accuracy: 0.8524\n",
      "Epoch 4/5\n",
      "938/938 [==============================] - 2s 1ms/step - loss: 0.3963 - accuracy: 0.8586\n",
      "Epoch 5/5\n",
      "938/938 [==============================] - 2s 1ms/step - loss: 0.3795 - accuracy: 0.8638\n"
     ]
    },
    {
     "data": {
      "text/plain": [
       "<keras.src.callbacks.History at 0x7f7e6e304130>"
      ]
     },
     "execution_count": 49,
     "metadata": {},
     "output_type": "execute_result"
    }
   ],
   "source": [
    "epochs = 5\n",
    "print('\\nFitting:')\n",
    "model.fit(train_dataset, epochs=epochs)"
   ]
  },
  {
   "cell_type": "code",
   "execution_count": 50,
   "metadata": {},
   "outputs": [
    {
     "name": "stdout",
     "output_type": "stream",
     "text": [
      "\n",
      "Evaluating:\n"
     ]
    },
    {
     "name": "stdout",
     "output_type": "stream",
     "text": [
      "157/157 [==============================] - 0s 922us/step - loss: 0.4131 - accuracy: 0.8514\n",
      "\n",
      "Test accuracy: 85.1%, test loss: 0.413080\n"
     ]
    }
   ],
   "source": [
    "print('\\nEvaluating:')\n",
    "(test_loss, test_accuracy) = model.evaluate(test_dataset)\n",
    "print(f'\\nTest accuracy: {test_accuracy * 100:>0.1f}%, test loss: {test_loss:>8f}')"
   ]
  },
  {
   "cell_type": "code",
   "execution_count": 51,
   "metadata": {},
   "outputs": [
    {
     "name": "stdout",
     "output_type": "stream",
     "text": [
      "INFO:tensorflow:Assets written to: outputs/model/assets\n"
     ]
    },
    {
     "name": "stderr",
     "output_type": "stream",
     "text": [
      "INFO:tensorflow:Assets written to: outputs/model/assets\n"
     ]
    }
   ],
   "source": [
    "model.save('outputs/model')"
   ]
  }
 ],
 "metadata": {
  "kernelspec": {
   "display_name": ".venv",
   "language": "python",
   "name": "python3"
  },
  "language_info": {
   "codemirror_mode": {
    "name": "ipython",
    "version": 3
   },
   "file_extension": ".py",
   "mimetype": "text/x-python",
   "name": "python",
   "nbconvert_exporter": "python",
   "pygments_lexer": "ipython3",
   "version": "3.10.12"
  }
 },
 "nbformat": 4,
 "nbformat_minor": 2
}
